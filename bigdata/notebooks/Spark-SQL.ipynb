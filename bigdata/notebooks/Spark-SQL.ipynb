{
 "cells": [
  {
   "cell_type": "markdown",
   "metadata": {},
   "source": [
    "<b>Why do we need to analyze the data ?</b>\n",
    "- to understand our client's behaviour \n",
    "- to make business decisions based on data\n",
    "- to validate our business decisions\n",
    "\n",
    "<b>What tools are you using to analyze the data ?</b>\n",
    "- excel, sql, programming languages (java, python, etc), big data tools \n",
    "\n",
    "<b>What does Big Data mean for you ?</b>\n",
    "- Big Data can means a large volume of data, which cannot be stored and processed efficiently by traditional data management tools.\n",
    "\n",
    "<b>Why SQL on Big Data ? </b> \n",
    "- SQL is one of the most common skill. Almost any developer knows how to write a simple SQL query.\n",
    "- If a big data framework would support SQL, all of a sudden, everyone could do analysis on big data ! <br>\n",
    "\n",
    "There are many SQL tools for big data. Amazon Athena, redshift from Amazon, BigQuery from google. Hive, Spark SQL as open source tools.\n"
   ]
  },
  {
   "cell_type": "markdown",
   "metadata": {},
   "source": [
    "<img src='https://github.com/tlapusan/itdays-2019/blob/master/bigdata/resources/images/spark_logo.png?raw=true' />\n",
    "\n",
    "Most of the time we are used to code/work on a single machine (laptop). But there are moments in our developers' life  when a single machine is not powerful enough, especially when we are dealing with processing of a large volume of data. <br>\n",
    "One idea would be to use a cluster of machines and use all their resources (CPU, RAM, HDD). If we are talking about a cluster of machines to comunicate between each other, that means that we need networking, multitreading, etc skills...scary.\n",
    "An ideal scenario would be to have a framework to handle this hard work and to give us the impression that we are still working on a single machine. This is what Apache Spark does !\n",
    "\n",
    "\n",
    "Apache Spark is a distributed computing engine. It is able to process a large volume data, for tasks like batch or streaming processing, SQL, machine learning, graph processing. wow !\n",
    "\n",
    "How can we deploy/use it ? <br>\n",
    "\n",
    "Even if Spark looks like a very big framework, we can install it easily on our laptops and just start coding.  \n",
    "The best part...the code that we write on our laptops can be deployed and run on a clusters with hundreds of servers, whitout any changes ;) <br>\n",
    "Supported programming languages : Java, Scala, Python, R.\n",
    "\n",
    "\n",
    "\n",
    "\n",
    "\n",
    "\n"
   ]
  },
  {
   "cell_type": "markdown",
   "metadata": {},
   "source": [
    "# Install Spark\n",
    "We can install Spark for Python (pyspark) using pip package manager."
   ]
  },
  {
   "cell_type": "code",
   "execution_count": 2,
   "metadata": {},
   "outputs": [
    {
     "name": "stdout",
     "output_type": "stream",
     "text": [
      "Collecting pyspark\n",
      "  Using cached https://files.pythonhosted.org/packages/87/21/f05c186f4ddb01d15d0ddc36ef4b7e3cedbeb6412274a41f26b55a650ee5/pyspark-2.4.4.tar.gz\n",
      "Collecting py4j==0.10.7 (from pyspark)\n",
      "  Using cached https://files.pythonhosted.org/packages/e3/53/c737818eb9a7dc32a7cd4f1396e787bd94200c3997c72c1dbe028587bd76/py4j-0.10.7-py2.py3-none-any.whl\n",
      "Installing collected packages: py4j, pyspark\n",
      "  Running setup.py install for pyspark ... \u001b[?25ldone\n",
      "\u001b[?25hSuccessfully installed py4j-0.10.7 pyspark-2.4.4\n"
     ]
    }
   ],
   "source": [
    "#!pip install pyspark"
   ]
  },
  {
   "cell_type": "markdown",
   "metadata": {},
   "source": [
    "# Imports"
   ]
  },
  {
   "cell_type": "code",
   "execution_count": 4,
   "metadata": {},
   "outputs": [],
   "source": [
    "from pyspark.sql import SparkSession\n",
    "from pyspark.sql import functions as F\n",
    "\n",
    "import matplotlib.pyplot as plt"
   ]
  },
  {
   "cell_type": "markdown",
   "metadata": {},
   "source": [
    "# Init SparkSession\n",
    "SparkSession is the entry point for each Spark application. <br>\n",
    "When we instantiate a SparkSession, we create a driver process from where we can execute user-defined code on our big datasets.\n",
    "\n",
    "<img src='https://github.com/tlapusan/itdays-2019/blob/master/bigdata/resources/images/spark_application_architecture.png?raw=true'/>\n"
   ]
  },
  {
   "cell_type": "code",
   "execution_count": 5,
   "metadata": {},
   "outputs": [],
   "source": [
    "spark = SparkSession.builder.\\\n",
    "            master(\"local[4]\").\\\n",
    "            appName(\"Spark-SQL\").\\\n",
    "            getOrCreate()"
   ]
  },
  {
   "cell_type": "code",
   "execution_count": 6,
   "metadata": {},
   "outputs": [
    {
     "data": {
      "text/html": [
       "\n",
       "            <div>\n",
       "                <p><b>SparkSession - in-memory</b></p>\n",
       "                \n",
       "        <div>\n",
       "            <p><b>SparkContext</b></p>\n",
       "\n",
       "            <p><a href=\"http://192.168.0.123:4040\">Spark UI</a></p>\n",
       "\n",
       "            <dl>\n",
       "              <dt>Version</dt>\n",
       "                <dd><code>v2.4.4</code></dd>\n",
       "              <dt>Master</dt>\n",
       "                <dd><code>local[4]</code></dd>\n",
       "              <dt>AppName</dt>\n",
       "                <dd><code>Spark-SQL</code></dd>\n",
       "            </dl>\n",
       "        </div>\n",
       "        \n",
       "            </div>\n",
       "        "
      ],
      "text/plain": [
       "<pyspark.sql.session.SparkSession at 0x10c71f350>"
      ]
     },
     "execution_count": 6,
     "metadata": {},
     "output_type": "execute_result"
    }
   ],
   "source": [
    "spark"
   ]
  },
  {
   "cell_type": "markdown",
   "metadata": {},
   "source": [
    "# Read data\n",
    "Spark can read/write data from a variaty of data formats, like csv, json, parquet, jdbc\n",
    "\n",
    "Dataset description : The data is related with direct marketing campaigns of a Portuguese banking institution. The marketing campaigns were based on phone calls. Often, more than one contact to the same client was required, in order to access if the product (bank term deposit) would be ('yes') or not ('no') subscribed. <br>\n",
    "More details : https://archive.ics.uci.edu/ml/datasets/Bank+Marketing"
   ]
  },
  {
   "cell_type": "code",
   "execution_count": 7,
   "metadata": {},
   "outputs": [],
   "source": [
    "client_bank = spark.read.csv(\"../resources/data/bank_client_data.csv\", header=True, inferSchema=True)\n",
    "client_campaign =spark.read.csv(\"../resources/data/campaign_client_data.csv\", header=True, inferSchema=True)"
   ]
  },
  {
   "cell_type": "markdown",
   "metadata": {},
   "source": [
    "# Dataframe\n",
    "\n",
    "Dataframe is an immutable distributed table-like collection of data. It has a schema which defines the column names and data types.\n",
    "\n",
    "<img src='https://github.com/tlapusan/itdays-2019/blob/master/bigdata/resources/images/dataframe_structure.png?raw=true' width='70%'/>\n",
    " \n",
    "\n",
    "TODO\n",
    "- the role of immutability for dataframe ?\n",
    "- penalty of using python in spark\n"
   ]
  },
  {
   "cell_type": "code",
   "execution_count": 8,
   "metadata": {},
   "outputs": [
    {
     "data": {
      "text/plain": [
       "pyspark.sql.dataframe.DataFrame"
      ]
     },
     "execution_count": 8,
     "metadata": {},
     "output_type": "execute_result"
    }
   ],
   "source": [
    "type(client_bank)"
   ]
  },
  {
   "cell_type": "code",
   "execution_count": 9,
   "metadata": {
    "scrolled": true
   },
   "outputs": [
    {
     "name": "stdout",
     "output_type": "stream",
     "text": [
      "root\n",
      " |-- id: integer (nullable = true)\n",
      " |-- age: integer (nullable = true)\n",
      " |-- job: string (nullable = true)\n",
      " |-- marital: string (nullable = true)\n",
      " |-- education: string (nullable = true)\n",
      " |-- default: string (nullable = true)\n",
      " |-- housing: string (nullable = true)\n",
      " |-- loan: string (nullable = true)\n",
      " |-- subscribed: string (nullable = true)\n",
      "\n"
     ]
    }
   ],
   "source": [
    "client_bank.printSchema()"
   ]
  },
  {
   "cell_type": "markdown",
   "metadata": {},
   "source": [
    "Data related with bank client information : <br>\n",
    "<b>id</b> - phone call id <br>\n",
    "<b>age</b> - client age <br>\n",
    "<b>job</b> - client job <br>\n",
    "<b>marital</b> - marital status (categorical: 'divorced','married','single','unknown'; note: 'divorced' means divorced or widowed) <br>\n",
    "<b>education</b> - client education 'basic.4y','basic.6y','basic.9y','high.school','illiterate','professional.course','university.degree','unknown' <br>\n",
    "<b>default</b> - has credit in default? (categorical: 'no','yes','unknown') <br>\n",
    "<b>housing</b> -  has housing loan? (categorical: 'no','yes','unknown') <br>\n",
    "<b>loan</b> - has personal loan? (categorical: 'no','yes','unknown') <br>\n",
    "<b>subscribed</b> - if the client subscribed to the bank term deposit (categorical: 'no','yes')"
   ]
  },
  {
   "cell_type": "code",
   "execution_count": 10,
   "metadata": {},
   "outputs": [
    {
     "name": "stdout",
     "output_type": "stream",
     "text": [
      "root\n",
      " |-- id: integer (nullable = true)\n",
      " |-- contact: string (nullable = true)\n",
      " |-- month: string (nullable = true)\n",
      " |-- day_of_week: string (nullable = true)\n",
      " |-- duration: integer (nullable = true)\n",
      " |-- campaign: integer (nullable = true)\n",
      "\n"
     ]
    }
   ],
   "source": [
    "client_campaign.printSchema()"
   ]
  },
  {
   "cell_type": "markdown",
   "metadata": {},
   "source": [
    "Data related with the last contact of the current campaign: <br>\n",
    "<b>id</b> phone call id <br>\n",
    "<b>contact</b> - contact communication type (categorical: 'cellular','telephone') <br>\n",
    "<b>month</b> - last contact month of year (categorical: 'jan', 'feb', 'mar', ..., 'nov', 'dec') <br>\n",
    "<b>day_of_week</b> - last contact day of the week (categorical: 'mon','tue','wed','thu','fri')<br>\n",
    "<b>duration</b> - last contact duration, in seconds (numeric). <br>\n",
    "<b>campaign</b> -  number of contacts performed during this campaign and for this client (numeric, includes last contact) phone call id <br>\n",
    "\n",
    "\n",
    "\n",
    "\n",
    "\n",
    "\n",
    "\n",
    "\n"
   ]
  },
  {
   "cell_type": "markdown",
   "metadata": {},
   "source": [
    "# Data analysis\n",
    "Spark offers multiple ways to analyze data. The most commonly used are DataFrame API and Spark SQL."
   ]
  },
  {
   "cell_type": "markdown",
   "metadata": {},
   "source": [
    "## Dataframe API"
   ]
  },
  {
   "cell_type": "markdown",
   "metadata": {},
   "source": [
    "### subscribed"
   ]
  },
  {
   "cell_type": "code",
   "execution_count": 11,
   "metadata": {},
   "outputs": [
    {
     "name": "stdout",
     "output_type": "stream",
     "text": [
      "+----------+-----+\n",
      "|subscribed|count|\n",
      "+----------+-----+\n",
      "|        no|36548|\n",
      "|       yes| 4640|\n",
      "+----------+-----+\n",
      "\n"
     ]
    }
   ],
   "source": [
    "# how many phone calls were successful/unsuccessful ?\n",
    "client_bank.\\\n",
    "    groupBy(\"subscribed\").\\\n",
    "    count().\\\n",
    "    show()"
   ]
  },
  {
   "cell_type": "markdown",
   "metadata": {},
   "source": [
    "### age"
   ]
  },
  {
   "cell_type": "code",
   "execution_count": 12,
   "metadata": {},
   "outputs": [
    {
     "name": "stdout",
     "output_type": "stream",
     "text": [
      "7308\n",
      "----\n",
      "+---+---+-----------+-------+-------------------+-------+-------+----+----------+\n",
      "| id|age|        job|marital|          education|default|housing|loan|subscribed|\n",
      "+---+---+-----------+-------+-------------------+-------+-------+----+----------+\n",
      "|  8| 24| technician| single|professional.course|     no|    yes|  no|        no|\n",
      "|  9| 25|   services| single|        high.school|     no|    yes|  no|        no|\n",
      "| 11| 25|   services| single|        high.school|     no|    yes|  no|        no|\n",
      "| 12| 29|blue-collar| single|        high.school|     no|     no| yes|        no|\n",
      "| 20| 30| unemployed|married|        high.school|     no|     no|  no|        no|\n",
      "| 59| 25| technician| single|  university.degree|     no|    yes|  no|        no|\n",
      "|160| 24| management| single|  university.degree|     no|    yes|  no|        no|\n",
      "|178| 28|   services|married|        high.school|     no|    yes|  no|        no|\n",
      "|216| 30|blue-collar| single|            unknown|     no|    yes|  no|        no|\n",
      "|217| 30|blue-collar| single|            unknown|     no|    yes| yes|        no|\n",
      "+---+---+-----------+-------+-------------------+-------+-------+----+----------+\n",
      "only showing top 10 rows\n",
      "\n",
      "None\n"
     ]
    }
   ],
   "source": [
    "# how many phone calls for clients with age between two values ?\n",
    "calls_between_age = client_bank.\\\n",
    "                        where(F.col(\"age\").between(20,30))\n",
    "\n",
    "print(calls_between_age.count())\n",
    "print(\"----\")\n",
    "print(calls_between_age.show(10))    "
   ]
  },
  {
   "cell_type": "code",
   "execution_count": 13,
   "metadata": {},
   "outputs": [
    {
     "name": "stdout",
     "output_type": "stream",
     "text": [
      "+---+-----+\n",
      "|age|count|\n",
      "+---+-----+\n",
      "| 31| 1947|\n",
      "| 85|   15|\n",
      "| 65|   44|\n",
      "| 53|  733|\n",
      "| 78|   27|\n",
      "| 34| 1745|\n",
      "| 81|   20|\n",
      "| 28| 1001|\n",
      "| 76|   34|\n",
      "| 27|  851|\n",
      "| 26|  698|\n",
      "| 44| 1011|\n",
      "| 91|    2|\n",
      "| 22|  137|\n",
      "| 47|  928|\n",
      "| 52|  779|\n",
      "| 86|    8|\n",
      "| 40| 1161|\n",
      "| 20|   65|\n",
      "| 94|    1|\n",
      "+---+-----+\n",
      "only showing top 20 rows\n",
      "\n"
     ]
    }
   ],
   "source": [
    "# age distribution\n",
    "client_bank.\\\n",
    "    groupBy([\"age\"]).\\\n",
    "    count().\\\n",
    "    show()"
   ]
  },
  {
   "cell_type": "code",
   "execution_count": 14,
   "metadata": {},
   "outputs": [
    {
     "name": "stdout",
     "output_type": "stream",
     "text": [
      "+---+-----+\n",
      "|age|count|\n",
      "+---+-----+\n",
      "| 17|    5|\n",
      "| 18|   28|\n",
      "| 19|   42|\n",
      "| 20|   65|\n",
      "| 21|  102|\n",
      "| 22|  137|\n",
      "| 23|  226|\n",
      "| 24|  463|\n",
      "| 25|  598|\n",
      "| 26|  698|\n",
      "| 27|  851|\n",
      "| 28| 1001|\n",
      "| 29| 1453|\n",
      "| 30| 1714|\n",
      "| 31| 1947|\n",
      "| 32| 1846|\n",
      "| 33| 1833|\n",
      "| 34| 1745|\n",
      "| 35| 1759|\n",
      "| 36| 1780|\n",
      "+---+-----+\n",
      "only showing top 20 rows\n",
      "\n"
     ]
    }
   ],
   "source": [
    "# order age distribution\n",
    "client_bank.\\\n",
    "    groupBy([\"age\"]).\\\n",
    "    count().\\\n",
    "    orderBy(F.col(\"age\")).\\\n",
    "    show()"
   ]
  },
  {
   "cell_type": "code",
   "execution_count": 16,
   "metadata": {},
   "outputs": [
    {
     "data": {
      "text/plain": [
       "<matplotlib.axes._subplots.AxesSubplot at 0x116dc59d0>"
      ]
     },
     "execution_count": 16,
     "metadata": {},
     "output_type": "execute_result"
    },
    {
     "data": {
      "image/png": "[encoded data removed]",
      "text/plain": [
       "<Figure size 1440x360 with 1 Axes>"
      ]
     },
     "metadata": {
      "needs_background": "light"
     },
     "output_type": "display_data"
    }
   ],
   "source": [
    "# converting to pandas dataframe and visualisation\n",
    "client_bank.\\\n",
    "    groupBy([\"age\"]).\\\n",
    "    count().\\\n",
    "    orderBy(\"age\").\\\n",
    "    toPandas().\\\n",
    "    plot.bar(x=\"age\", y=\"count\", figsize=(20,5))"
   ]
  },
  {
   "cell_type": "code",
   "execution_count": 17,
   "metadata": {},
   "outputs": [
    {
     "name": "stdout",
     "output_type": "stream",
     "text": [
      "+---+--------+---------------+\n",
      "|age|count(1)|subscribed_rate|\n",
      "+---+--------+---------------+\n",
      "| 17|       5|           null|\n",
      "| 18|      28|           null|\n",
      "| 19|      42|           null|\n",
      "| 20|      65|           null|\n",
      "| 21|     102|           null|\n",
      "| 22|     137|           null|\n",
      "| 23|     226|           null|\n",
      "| 24|     463|           null|\n",
      "| 25|     598|           null|\n",
      "| 26|     698|           null|\n",
      "| 27|     851|           null|\n",
      "| 28|    1001|           null|\n",
      "| 29|    1453|           null|\n",
      "| 30|    1714|           null|\n",
      "| 31|    1947|           null|\n",
      "| 32|    1846|           null|\n",
      "| 33|    1833|           null|\n",
      "| 34|    1745|           null|\n",
      "| 35|    1759|           null|\n",
      "| 36|    1780|           null|\n",
      "+---+--------+---------------+\n",
      "only showing top 20 rows\n",
      "\n"
     ]
    }
   ],
   "source": [
    "# rate of subscription / age\n",
    "client_bank.\\\n",
    "    groupBy(\"age\").\\\n",
    "    agg(F.count(\"*\"), F.mean(\"subscribed\").alias(\"subscribed_rate\")).\\\n",
    "    orderBy(\"age\").\\\n",
    "    show()\n",
    "# subscribed is a string, that's why we cannot run mean on it"
   ]
  },
  {
   "cell_type": "code",
   "execution_count": 18,
   "metadata": {},
   "outputs": [],
   "source": [
    "# adding a new column \n",
    "client_bank = client_bank.withColumn(\"subscribed_int\", F.when(F.col(\"subscribed\")==\"yes\", 1).otherwise(0))"
   ]
  },
  {
   "cell_type": "code",
   "execution_count": 19,
   "metadata": {},
   "outputs": [
    {
     "name": "stdout",
     "output_type": "stream",
     "text": [
      "+---+---+-----------+--------+-------------------+-------+-------+----+----------+--------------+\n",
      "| id|age|        job| marital|          education|default|housing|loan|subscribed|subscribed_int|\n",
      "+---+---+-----------+--------+-------------------+-------+-------+----+----------+--------------+\n",
      "|  0| 56|  housemaid| married|           basic.4y|     no|     no|  no|        no|             0|\n",
      "|  1| 57|   services| married|        high.school|unknown|     no|  no|        no|             0|\n",
      "|  2| 37|   services| married|        high.school|     no|    yes|  no|        no|             0|\n",
      "|  3| 40|     admin.| married|           basic.6y|     no|     no|  no|        no|             0|\n",
      "|  4| 56|   services| married|        high.school|     no|     no| yes|        no|             0|\n",
      "|  5| 45|   services| married|           basic.9y|unknown|     no|  no|        no|             0|\n",
      "|  6| 59|     admin.| married|professional.course|     no|     no|  no|        no|             0|\n",
      "|  7| 41|blue-collar| married|            unknown|unknown|     no|  no|        no|             0|\n",
      "|  8| 24| technician|  single|professional.course|     no|    yes|  no|        no|             0|\n",
      "|  9| 25|   services|  single|        high.school|     no|    yes|  no|        no|             0|\n",
      "| 10| 41|blue-collar| married|            unknown|unknown|     no|  no|        no|             0|\n",
      "| 11| 25|   services|  single|        high.school|     no|    yes|  no|        no|             0|\n",
      "| 12| 29|blue-collar|  single|        high.school|     no|     no| yes|        no|             0|\n",
      "| 13| 57|  housemaid|divorced|           basic.4y|     no|    yes|  no|        no|             0|\n",
      "| 14| 35|blue-collar| married|           basic.6y|     no|    yes|  no|        no|             0|\n",
      "| 15| 54|    retired| married|           basic.9y|unknown|    yes| yes|        no|             0|\n",
      "| 16| 35|blue-collar| married|           basic.6y|     no|    yes|  no|        no|             0|\n",
      "| 17| 46|blue-collar| married|           basic.6y|unknown|    yes| yes|        no|             0|\n",
      "| 18| 50|blue-collar| married|           basic.9y|     no|    yes| yes|        no|             0|\n",
      "| 19| 39| management|  single|           basic.9y|unknown|     no|  no|        no|             0|\n",
      "+---+---+-----------+--------+-------------------+-------+-------+----+----------+--------------+\n",
      "only showing top 20 rows\n",
      "\n"
     ]
    }
   ],
   "source": [
    "client_bank.show()"
   ]
  },
  {
   "cell_type": "code",
   "execution_count": 20,
   "metadata": {},
   "outputs": [
    {
     "name": "stdout",
     "output_type": "stream",
     "text": [
      "+---+--------+-------------------+\n",
      "|age|count(1)|    subscribed_rate|\n",
      "+---+--------+-------------------+\n",
      "| 17|       5|                0.4|\n",
      "| 18|      28|0.42857142857142855|\n",
      "| 19|      42|0.47619047619047616|\n",
      "| 20|      65|0.35384615384615387|\n",
      "| 21|     102|0.28431372549019607|\n",
      "| 22|     137|0.26277372262773724|\n",
      "| 23|     226|0.21238938053097345|\n",
      "| 24|     463| 0.1857451403887689|\n",
      "| 25|     598|0.15551839464882944|\n",
      "| 26|     698|0.17478510028653296|\n",
      "| 27|     851|0.13396004700352526|\n",
      "| 28|    1001|0.15084915084915085|\n",
      "| 29|    1453|0.12801101169993118|\n",
      "| 30|    1714|0.11785297549591599|\n",
      "| 31|    1947|0.11299435028248588|\n",
      "| 32|    1846|0.09967497291440953|\n",
      "| 33|    1833|0.11456628477905073|\n",
      "| 34|    1745|0.10544412607449857|\n",
      "| 35|    1759|0.09494030699260944|\n",
      "| 36|    1780|0.08651685393258426|\n",
      "+---+--------+-------------------+\n",
      "only showing top 20 rows\n",
      "\n"
     ]
    }
   ],
   "source": [
    "client_bank.\\\n",
    "    groupBy(\"age\").\\\n",
    "    agg(F.count(\"*\"), F.mean(\"subscribed_int\").alias(\"subscribed_rate\")).\\\n",
    "    orderBy(\"age\").\\\n",
    "    show()\n",
    "#     toPandas().\\\n",
    "#     plot.bar(x=\"age\", y=\"subscribe_rate\", figsize=(20,5))"
   ]
  },
  {
   "cell_type": "markdown",
   "metadata": {},
   "source": [
    "### job"
   ]
  },
  {
   "cell_type": "code",
   "execution_count": 21,
   "metadata": {},
   "outputs": [
    {
     "name": "stdout",
     "output_type": "stream",
     "text": [
      "+-------------+-----+\n",
      "|          job|count|\n",
      "+-------------+-----+\n",
      "|       admin.|10422|\n",
      "|  blue-collar| 9254|\n",
      "|   technician| 6743|\n",
      "|     services| 3969|\n",
      "|   management| 2924|\n",
      "|      retired| 1720|\n",
      "| entrepreneur| 1456|\n",
      "|self-employed| 1421|\n",
      "|    housemaid| 1060|\n",
      "|   unemployed| 1014|\n",
      "|      student|  875|\n",
      "|      unknown|  330|\n",
      "+-------------+-----+\n",
      "\n"
     ]
    }
   ],
   "source": [
    "client_bank.\\\n",
    "    groupBy(\"job\").\\\n",
    "    count().\\\n",
    "    orderBy(\"count\", ascending=False).\\\n",
    "    show()"
   ]
  },
  {
   "cell_type": "code",
   "execution_count": 22,
   "metadata": {},
   "outputs": [
    {
     "name": "stdout",
     "output_type": "stream",
     "text": [
      "+-------------+-------+-------+------------------+\n",
      "|          job|min_age|max_age|           avg_age|\n",
      "+-------------+-------+-------+------------------+\n",
      "|   management|     21|     80| 42.36285909712722|\n",
      "|      retired|     23|     98|62.027325581395345|\n",
      "|      unknown|     24|     81| 45.56363636363636|\n",
      "|self-employed|     21|     71| 39.94933145672062|\n",
      "|      student|     17|     47| 25.89485714285714|\n",
      "|  blue-collar|     20|     80|39.555759671493405|\n",
      "| entrepreneur|     20|     69|41.723214285714285|\n",
      "|       admin.|     20|     72| 38.18729610439455|\n",
      "|   technician|     20|     70|  38.5076375500519|\n",
      "|     services|     20|     69| 37.92642983119173|\n",
      "|    housemaid|     21|     85|              45.5|\n",
      "|   unemployed|     21|     66| 39.73372781065089|\n",
      "+-------------+-------+-------+------------------+\n",
      "\n"
     ]
    }
   ],
   "source": [
    "client_bank.\\\n",
    "    groupBy(\"job\").\\\n",
    "    agg(F.min(\"age\").alias(\"min_age\"), F.max(\"age\").alias(\"max_age\"), F.avg(\"age\").alias(\"avg_age\")).\\\n",
    "    show()"
   ]
  },
  {
   "cell_type": "markdown",
   "metadata": {},
   "source": [
    "## Spark SQL\n",
    "To run any type of SQL query, we need first to create a temporary view"
   ]
  },
  {
   "cell_type": "code",
   "execution_count": 23,
   "metadata": {},
   "outputs": [],
   "source": [
    "client_bank.createOrReplaceTempView(\"client_bank\")\n",
    "client_campaign.createOrReplaceTempView(\"client_campaign\")"
   ]
  },
  {
   "cell_type": "code",
   "execution_count": 24,
   "metadata": {},
   "outputs": [
    {
     "name": "stdout",
     "output_type": "stream",
     "text": [
      "+---+---+-----------+--------+-------------------+-------+-------+----+----------+--------------+\n",
      "| id|age|        job| marital|          education|default|housing|loan|subscribed|subscribed_int|\n",
      "+---+---+-----------+--------+-------------------+-------+-------+----+----------+--------------+\n",
      "|  0| 56|  housemaid| married|           basic.4y|     no|     no|  no|        no|             0|\n",
      "|  1| 57|   services| married|        high.school|unknown|     no|  no|        no|             0|\n",
      "|  2| 37|   services| married|        high.school|     no|    yes|  no|        no|             0|\n",
      "|  3| 40|     admin.| married|           basic.6y|     no|     no|  no|        no|             0|\n",
      "|  4| 56|   services| married|        high.school|     no|     no| yes|        no|             0|\n",
      "|  5| 45|   services| married|           basic.9y|unknown|     no|  no|        no|             0|\n",
      "|  6| 59|     admin.| married|professional.course|     no|     no|  no|        no|             0|\n",
      "|  7| 41|blue-collar| married|            unknown|unknown|     no|  no|        no|             0|\n",
      "|  8| 24| technician|  single|professional.course|     no|    yes|  no|        no|             0|\n",
      "|  9| 25|   services|  single|        high.school|     no|    yes|  no|        no|             0|\n",
      "| 10| 41|blue-collar| married|            unknown|unknown|     no|  no|        no|             0|\n",
      "| 11| 25|   services|  single|        high.school|     no|    yes|  no|        no|             0|\n",
      "| 12| 29|blue-collar|  single|        high.school|     no|     no| yes|        no|             0|\n",
      "| 13| 57|  housemaid|divorced|           basic.4y|     no|    yes|  no|        no|             0|\n",
      "| 14| 35|blue-collar| married|           basic.6y|     no|    yes|  no|        no|             0|\n",
      "| 15| 54|    retired| married|           basic.9y|unknown|    yes| yes|        no|             0|\n",
      "| 16| 35|blue-collar| married|           basic.6y|     no|    yes|  no|        no|             0|\n",
      "| 17| 46|blue-collar| married|           basic.6y|unknown|    yes| yes|        no|             0|\n",
      "| 18| 50|blue-collar| married|           basic.9y|     no|    yes| yes|        no|             0|\n",
      "| 19| 39| management|  single|           basic.9y|unknown|     no|  no|        no|             0|\n",
      "+---+---+-----------+--------+-------------------+-------+-------+----+----------+--------------+\n",
      "only showing top 20 rows\n",
      "\n"
     ]
    }
   ],
   "source": [
    "spark.sql(\"\"\"SELECT * \n",
    "            FROM client_bank\"\"\").show()"
   ]
  },
  {
   "cell_type": "code",
   "execution_count": 25,
   "metadata": {},
   "outputs": [
    {
     "name": "stdout",
     "output_type": "stream",
     "text": [
      "+-------------+-----+\n",
      "|          job|count|\n",
      "+-------------+-----+\n",
      "|   management| 2924|\n",
      "|      retired| 1720|\n",
      "|      unknown|  330|\n",
      "|self-employed| 1421|\n",
      "|      student|  875|\n",
      "|  blue-collar| 9254|\n",
      "| entrepreneur| 1456|\n",
      "|       admin.|10422|\n",
      "|   technician| 6743|\n",
      "|     services| 3969|\n",
      "|    housemaid| 1060|\n",
      "|   unemployed| 1014|\n",
      "+-------------+-----+\n",
      "\n"
     ]
    }
   ],
   "source": [
    "spark.sql(\"\"\"SELECT job, count(*) AS count\n",
    "            FROM client_bank\n",
    "            GROUP BY job\"\"\").show()"
   ]
  },
  {
   "cell_type": "code",
   "execution_count": 26,
   "metadata": {},
   "outputs": [
    {
     "name": "stdout",
     "output_type": "stream",
     "text": [
      "+---+---------+-----+-----------+--------+--------+\n",
      "| id|  contact|month|day_of_week|duration|campaign|\n",
      "+---+---------+-----+-----------+--------+--------+\n",
      "|  0|telephone|  may|        mon|     261|       1|\n",
      "|  1|telephone|  may|        mon|     149|       1|\n",
      "|  2|telephone|  may|        mon|     226|       1|\n",
      "|  3|telephone|  may|        mon|     151|       1|\n",
      "|  4|telephone|  may|        mon|     307|       1|\n",
      "|  5|telephone|  may|        mon|     198|       1|\n",
      "|  6|telephone|  may|        mon|     139|       1|\n",
      "|  7|telephone|  may|        mon|     217|       1|\n",
      "|  8|telephone|  may|        mon|     380|       1|\n",
      "|  9|telephone|  may|        mon|      50|       1|\n",
      "| 10|telephone|  may|        mon|      55|       1|\n",
      "| 11|telephone|  may|        mon|     222|       1|\n",
      "| 12|telephone|  may|        mon|     137|       1|\n",
      "| 13|telephone|  may|        mon|     293|       1|\n",
      "| 14|telephone|  may|        mon|     146|       1|\n",
      "| 15|telephone|  may|        mon|     174|       1|\n",
      "| 16|telephone|  may|        mon|     312|       1|\n",
      "| 17|telephone|  may|        mon|     440|       1|\n",
      "| 18|telephone|  may|        mon|     353|       1|\n",
      "| 19|telephone|  may|        mon|     195|       1|\n",
      "+---+---------+-----+-----------+--------+--------+\n",
      "only showing top 20 rows\n",
      "\n"
     ]
    }
   ],
   "source": [
    "spark.sql(\"\"\"SELECT *\n",
    "            FROM client_campaign\"\"\").show()"
   ]
  },
  {
   "cell_type": "markdown",
   "metadata": {},
   "source": [
    "### marital"
   ]
  },
  {
   "cell_type": "markdown",
   "metadata": {},
   "source": [
    "#### Select all the phone calls for single persons"
   ]
  },
  {
   "cell_type": "code",
   "execution_count": 27,
   "metadata": {},
   "outputs": [
    {
     "name": "stdout",
     "output_type": "stream",
     "text": [
      "+---+---+-----------+-------+-------------------+-------+-------+----+----------+--------------+\n",
      "| id|age|        job|marital|          education|default|housing|loan|subscribed|subscribed_int|\n",
      "+---+---+-----------+-------+-------------------+-------+-------+----+----------+--------------+\n",
      "|  8| 24| technician| single|professional.course|     no|    yes|  no|        no|             0|\n",
      "|  9| 25|   services| single|        high.school|     no|    yes|  no|        no|             0|\n",
      "| 11| 25|   services| single|        high.school|     no|    yes|  no|        no|             0|\n",
      "| 12| 29|blue-collar| single|        high.school|     no|     no| yes|        no|             0|\n",
      "| 19| 39| management| single|           basic.9y|unknown|     no|  no|        no|             0|\n",
      "| 22| 55|    retired| single|        high.school|     no|    yes|  no|        no|             0|\n",
      "| 23| 41| technician| single|        high.school|     no|    yes|  no|        no|             0|\n",
      "| 28| 54| technician| single|  university.degree|unknown|     no|  no|        no|             0|\n",
      "| 42| 38|     admin.| single|professional.course|     no|     no|  no|        no|             0|\n",
      "| 45| 42| technician| single|professional.course|unknown|     no|  no|        no|             0|\n",
      "| 53| 53|     admin.| single|professional.course|     no|     no|  no|        no|             0|\n",
      "| 59| 25| technician| single|  university.degree|     no|    yes|  no|        no|             0|\n",
      "| 66| 44|blue-collar| single|           basic.9y|     no|    yes|  no|        no|             0|\n",
      "| 69| 44|blue-collar| single|           basic.4y|unknown|    yes| yes|        no|             0|\n",
      "| 84| 38| technician| single|  university.degree|     no|     no| yes|        no|             0|\n",
      "| 98| 37| technician| single|professional.course|     no|     no|  no|        no|             0|\n",
      "|105| 43|   services| single|        high.school|unknown|     no|  no|        no|             0|\n",
      "|140| 43| unemployed| single|  university.degree|     no|    yes|  no|        no|             0|\n",
      "|147| 35|     admin.| single|        high.school|     no|    yes|  no|        no|             0|\n",
      "|158| 43| technician| single|professional.course|     no|    yes|  no|        no|             0|\n",
      "+---+---+-----------+-------+-------------------+-------+-------+----+----------+--------------+\n",
      "only showing top 20 rows\n",
      "\n"
     ]
    }
   ],
   "source": [
    "# using Dataframe API\n",
    "client_bank.\\\n",
    "        where(F.col(\"marital\")==\"single\").\\\n",
    "        show()"
   ]
  },
  {
   "cell_type": "code",
   "execution_count": 28,
   "metadata": {},
   "outputs": [
    {
     "name": "stdout",
     "output_type": "stream",
     "text": [
      "+---+---+-----------+-------+-------------------+-------+-------+----+----------+--------------+\n",
      "| id|age|        job|marital|          education|default|housing|loan|subscribed|subscribed_int|\n",
      "+---+---+-----------+-------+-------------------+-------+-------+----+----------+--------------+\n",
      "|  8| 24| technician| single|professional.course|     no|    yes|  no|        no|             0|\n",
      "|  9| 25|   services| single|        high.school|     no|    yes|  no|        no|             0|\n",
      "| 11| 25|   services| single|        high.school|     no|    yes|  no|        no|             0|\n",
      "| 12| 29|blue-collar| single|        high.school|     no|     no| yes|        no|             0|\n",
      "| 19| 39| management| single|           basic.9y|unknown|     no|  no|        no|             0|\n",
      "| 22| 55|    retired| single|        high.school|     no|    yes|  no|        no|             0|\n",
      "| 23| 41| technician| single|        high.school|     no|    yes|  no|        no|             0|\n",
      "| 28| 54| technician| single|  university.degree|unknown|     no|  no|        no|             0|\n",
      "| 42| 38|     admin.| single|professional.course|     no|     no|  no|        no|             0|\n",
      "| 45| 42| technician| single|professional.course|unknown|     no|  no|        no|             0|\n",
      "| 53| 53|     admin.| single|professional.course|     no|     no|  no|        no|             0|\n",
      "| 59| 25| technician| single|  university.degree|     no|    yes|  no|        no|             0|\n",
      "| 66| 44|blue-collar| single|           basic.9y|     no|    yes|  no|        no|             0|\n",
      "| 69| 44|blue-collar| single|           basic.4y|unknown|    yes| yes|        no|             0|\n",
      "| 84| 38| technician| single|  university.degree|     no|     no| yes|        no|             0|\n",
      "| 98| 37| technician| single|professional.course|     no|     no|  no|        no|             0|\n",
      "|105| 43|   services| single|        high.school|unknown|     no|  no|        no|             0|\n",
      "|140| 43| unemployed| single|  university.degree|     no|    yes|  no|        no|             0|\n",
      "|147| 35|     admin.| single|        high.school|     no|    yes|  no|        no|             0|\n",
      "|158| 43| technician| single|professional.course|     no|    yes|  no|        no|             0|\n",
      "+---+---+-----------+-------+-------------------+-------+-------+----+----------+--------------+\n",
      "only showing top 20 rows\n",
      "\n"
     ]
    }
   ],
   "source": [
    "# using Spark SQL\n",
    "spark.sql(\"\"\"SELECT * \n",
    "            FROM client_bank\n",
    "            WHERE marital == 'single'\"\"\").show()"
   ]
  },
  {
   "cell_type": "markdown",
   "metadata": {},
   "source": [
    "#### Distribution of number of phone calls and rate of success based on marital status"
   ]
  },
  {
   "cell_type": "code",
   "execution_count": 29,
   "metadata": {
    "scrolled": true
   },
   "outputs": [
    {
     "name": "stdout",
     "output_type": "stream",
     "text": [
      "+--------+-----+-------------------+\n",
      "| marital|count|avg(subscribed_int)|\n",
      "+--------+-----+-------------------+\n",
      "| unknown|   80|               0.15|\n",
      "|divorced| 4612|0.10320901994796183|\n",
      "| married|24928|0.10157252888318356|\n",
      "|  single|11568| 0.1400414937759336|\n",
      "+--------+-----+-------------------+\n",
      "\n"
     ]
    }
   ],
   "source": [
    "# using Dataframe API\n",
    "client_bank.\\\n",
    "    groupBy(\"marital\").\\\n",
    "    agg(F.count(\"*\").alias(\"count\"), F.avg(\"subscribed_int\")).\\\n",
    "    show()"
   ]
  },
  {
   "cell_type": "code",
   "execution_count": 30,
   "metadata": {},
   "outputs": [
    {
     "name": "stdout",
     "output_type": "stream",
     "text": [
      "+--------+-----+-------------------+\n",
      "| marital|count|avg(subscribed_int)|\n",
      "+--------+-----+-------------------+\n",
      "| unknown|   80|               0.15|\n",
      "|divorced| 4612|0.10320901994796183|\n",
      "| married|24928|0.10157252888318356|\n",
      "|  single|11568| 0.1400414937759336|\n",
      "+--------+-----+-------------------+\n",
      "\n"
     ]
    }
   ],
   "source": [
    "# using Spark SQL\n",
    "spark.sql(\"\"\"SELECT marital, count(*) as count, avg(subscribed_int)\n",
    "            FROM client_bank\n",
    "            GROUP BY marital\"\"\").show()"
   ]
  },
  {
   "cell_type": "markdown",
   "metadata": {},
   "source": [
    "### Joins\n",
    "docs : https://spark.apache.org/docs/latest/api/python/pyspark.sql.html#pyspark.sql.DataFrame.join"
   ]
  },
  {
   "cell_type": "code",
   "execution_count": 31,
   "metadata": {},
   "outputs": [],
   "source": [
    "full_dataset = client_bank.join(client_campaign, [\"id\"], how=\"inner\")"
   ]
  },
  {
   "cell_type": "code",
   "execution_count": 32,
   "metadata": {},
   "outputs": [
    {
     "name": "stdout",
     "output_type": "stream",
     "text": [
      "+---+---+-----------+--------+-------------------+-------+-------+----+----------+--------------+---------+-----+-----------+--------+--------+\n",
      "| id|age|        job| marital|          education|default|housing|loan|subscribed|subscribed_int|  contact|month|day_of_week|duration|campaign|\n",
      "+---+---+-----------+--------+-------------------+-------+-------+----+----------+--------------+---------+-----+-----------+--------+--------+\n",
      "|  0| 56|  housemaid| married|           basic.4y|     no|     no|  no|        no|             0|telephone|  may|        mon|     261|       1|\n",
      "|  1| 57|   services| married|        high.school|unknown|     no|  no|        no|             0|telephone|  may|        mon|     149|       1|\n",
      "|  2| 37|   services| married|        high.school|     no|    yes|  no|        no|             0|telephone|  may|        mon|     226|       1|\n",
      "|  3| 40|     admin.| married|           basic.6y|     no|     no|  no|        no|             0|telephone|  may|        mon|     151|       1|\n",
      "|  4| 56|   services| married|        high.school|     no|     no| yes|        no|             0|telephone|  may|        mon|     307|       1|\n",
      "|  5| 45|   services| married|           basic.9y|unknown|     no|  no|        no|             0|telephone|  may|        mon|     198|       1|\n",
      "|  6| 59|     admin.| married|professional.course|     no|     no|  no|        no|             0|telephone|  may|        mon|     139|       1|\n",
      "|  7| 41|blue-collar| married|            unknown|unknown|     no|  no|        no|             0|telephone|  may|        mon|     217|       1|\n",
      "|  8| 24| technician|  single|professional.course|     no|    yes|  no|        no|             0|telephone|  may|        mon|     380|       1|\n",
      "|  9| 25|   services|  single|        high.school|     no|    yes|  no|        no|             0|telephone|  may|        mon|      50|       1|\n",
      "| 10| 41|blue-collar| married|            unknown|unknown|     no|  no|        no|             0|telephone|  may|        mon|      55|       1|\n",
      "| 11| 25|   services|  single|        high.school|     no|    yes|  no|        no|             0|telephone|  may|        mon|     222|       1|\n",
      "| 12| 29|blue-collar|  single|        high.school|     no|     no| yes|        no|             0|telephone|  may|        mon|     137|       1|\n",
      "| 13| 57|  housemaid|divorced|           basic.4y|     no|    yes|  no|        no|             0|telephone|  may|        mon|     293|       1|\n",
      "| 14| 35|blue-collar| married|           basic.6y|     no|    yes|  no|        no|             0|telephone|  may|        mon|     146|       1|\n",
      "| 15| 54|    retired| married|           basic.9y|unknown|    yes| yes|        no|             0|telephone|  may|        mon|     174|       1|\n",
      "| 16| 35|blue-collar| married|           basic.6y|     no|    yes|  no|        no|             0|telephone|  may|        mon|     312|       1|\n",
      "| 17| 46|blue-collar| married|           basic.6y|unknown|    yes| yes|        no|             0|telephone|  may|        mon|     440|       1|\n",
      "| 18| 50|blue-collar| married|           basic.9y|     no|    yes| yes|        no|             0|telephone|  may|        mon|     353|       1|\n",
      "| 19| 39| management|  single|           basic.9y|unknown|     no|  no|        no|             0|telephone|  may|        mon|     195|       1|\n",
      "+---+---+-----------+--------+-------------------+-------+-------+----+----------+--------------+---------+-----+-----------+--------+--------+\n",
      "only showing top 20 rows\n",
      "\n"
     ]
    }
   ],
   "source": [
    "# for pretty printing : vertical=True or cast to pandas dataframe\n",
    "full_dataset.\\\n",
    "    show(20)"
   ]
  },
  {
   "cell_type": "code",
   "execution_count": 33,
   "metadata": {},
   "outputs": [
    {
     "name": "stdout",
     "output_type": "stream",
     "text": [
      "+---+---+-----------+--------+-------------------+-------+-------+----+----------+--------------+---+---------+-----+-----------+--------+--------+\n",
      "| id|age|        job| marital|          education|default|housing|loan|subscribed|subscribed_int| id|  contact|month|day_of_week|duration|campaign|\n",
      "+---+---+-----------+--------+-------------------+-------+-------+----+----------+--------------+---+---------+-----+-----------+--------+--------+\n",
      "|  0| 56|  housemaid| married|           basic.4y|     no|     no|  no|        no|             0|  0|telephone|  may|        mon|     261|       1|\n",
      "|  1| 57|   services| married|        high.school|unknown|     no|  no|        no|             0|  1|telephone|  may|        mon|     149|       1|\n",
      "|  2| 37|   services| married|        high.school|     no|    yes|  no|        no|             0|  2|telephone|  may|        mon|     226|       1|\n",
      "|  3| 40|     admin.| married|           basic.6y|     no|     no|  no|        no|             0|  3|telephone|  may|        mon|     151|       1|\n",
      "|  4| 56|   services| married|        high.school|     no|     no| yes|        no|             0|  4|telephone|  may|        mon|     307|       1|\n",
      "|  5| 45|   services| married|           basic.9y|unknown|     no|  no|        no|             0|  5|telephone|  may|        mon|     198|       1|\n",
      "|  6| 59|     admin.| married|professional.course|     no|     no|  no|        no|             0|  6|telephone|  may|        mon|     139|       1|\n",
      "|  7| 41|blue-collar| married|            unknown|unknown|     no|  no|        no|             0|  7|telephone|  may|        mon|     217|       1|\n",
      "|  8| 24| technician|  single|professional.course|     no|    yes|  no|        no|             0|  8|telephone|  may|        mon|     380|       1|\n",
      "|  9| 25|   services|  single|        high.school|     no|    yes|  no|        no|             0|  9|telephone|  may|        mon|      50|       1|\n",
      "| 10| 41|blue-collar| married|            unknown|unknown|     no|  no|        no|             0| 10|telephone|  may|        mon|      55|       1|\n",
      "| 11| 25|   services|  single|        high.school|     no|    yes|  no|        no|             0| 11|telephone|  may|        mon|     222|       1|\n",
      "| 12| 29|blue-collar|  single|        high.school|     no|     no| yes|        no|             0| 12|telephone|  may|        mon|     137|       1|\n",
      "| 13| 57|  housemaid|divorced|           basic.4y|     no|    yes|  no|        no|             0| 13|telephone|  may|        mon|     293|       1|\n",
      "| 14| 35|blue-collar| married|           basic.6y|     no|    yes|  no|        no|             0| 14|telephone|  may|        mon|     146|       1|\n",
      "| 15| 54|    retired| married|           basic.9y|unknown|    yes| yes|        no|             0| 15|telephone|  may|        mon|     174|       1|\n",
      "| 16| 35|blue-collar| married|           basic.6y|     no|    yes|  no|        no|             0| 16|telephone|  may|        mon|     312|       1|\n",
      "| 17| 46|blue-collar| married|           basic.6y|unknown|    yes| yes|        no|             0| 17|telephone|  may|        mon|     440|       1|\n",
      "| 18| 50|blue-collar| married|           basic.9y|     no|    yes| yes|        no|             0| 18|telephone|  may|        mon|     353|       1|\n",
      "| 19| 39| management|  single|           basic.9y|unknown|     no|  no|        no|             0| 19|telephone|  may|        mon|     195|       1|\n",
      "+---+---+-----------+--------+-------------------+-------+-------+----+----------+--------------+---+---------+-----+-----------+--------+--------+\n",
      "only showing top 20 rows\n",
      "\n"
     ]
    }
   ],
   "source": [
    "# same join, but now in pure SQL\n",
    "spark.sql(\"\"\"SELECT *\n",
    "            FROM client_bank cb inner join client_campaign cc ON cb.id == cc.id\"\"\").show()"
   ]
  },
  {
   "cell_type": "markdown",
   "metadata": {},
   "source": [
    "#### Most successful months"
   ]
  },
  {
   "cell_type": "code",
   "execution_count": 34,
   "metadata": {},
   "outputs": [],
   "source": [
    "full_dataset.createOrReplaceTempView(\"full_dataset\")"
   ]
  },
  {
   "cell_type": "code",
   "execution_count": 35,
   "metadata": {},
   "outputs": [
    {
     "name": "stdout",
     "output_type": "stream",
     "text": [
      "+-----+-----+-------------------+\n",
      "|month|count| month_success_rate|\n",
      "+-----+-----+-------------------+\n",
      "|  mar|  546| 0.5054945054945055|\n",
      "|  dec|  182|  0.489010989010989|\n",
      "|  sep|  570|0.44912280701754387|\n",
      "|  oct|  718| 0.4387186629526462|\n",
      "|  apr| 2632| 0.2047872340425532|\n",
      "|  aug| 6178| 0.1060213661379087|\n",
      "|  jun| 5318|0.10511470477623167|\n",
      "|  nov| 4101|0.10143867349426969|\n",
      "|  jul| 7174|0.09046557011430165|\n",
      "|  may|13769|0.06434744716391895|\n",
      "+-----+-----+-------------------+\n",
      "\n"
     ]
    }
   ],
   "source": [
    "spark.sql(\"\"\"SELECT month, count(*) as count, avg(subscribed_int) as month_success_rate\n",
    "            FROM full_dataset\n",
    "            GROUP BY month\n",
    "            ORDER BY month_success_rate DESC\"\"\").show()"
   ]
  },
  {
   "cell_type": "markdown",
   "metadata": {},
   "source": [
    "## Combine SQL with Dataframe API"
   ]
  },
  {
   "cell_type": "code",
   "execution_count": 36,
   "metadata": {},
   "outputs": [
    {
     "name": "stdout",
     "output_type": "stream",
     "text": [
      "+---+--------+--------+\n",
      "|age|     job| contact|\n",
      "+---+--------+--------+\n",
      "| 37|services|cellular|\n",
      "| 37|services|cellular|\n",
      "| 37|services|cellular|\n",
      "| 37|services|cellular|\n",
      "| 37|services|cellular|\n",
      "| 37|services|cellular|\n",
      "| 37|services|cellular|\n",
      "| 37|services|cellular|\n",
      "| 37|services|cellular|\n",
      "| 37|services|cellular|\n",
      "| 37|services|cellular|\n",
      "| 37|services|cellular|\n",
      "| 37|services|cellular|\n",
      "| 37|services|cellular|\n",
      "| 37|services|cellular|\n",
      "| 37|services|cellular|\n",
      "| 37|services|cellular|\n",
      "| 37|services|cellular|\n",
      "| 37|services|cellular|\n",
      "| 37|services|cellular|\n",
      "+---+--------+--------+\n",
      "only showing top 20 rows\n",
      "\n"
     ]
    }
   ],
   "source": [
    "spark.sql(\"\"\"SELECT age, job, contact\n",
    "            FROM full_dataset\n",
    "            WHERE job == 'services'\"\"\").\\\n",
    "    where(F.col(\"age\")==37).\\\n",
    "    where(F.col(\"contact\")==\"cellular\").show()"
   ]
  },
  {
   "cell_type": "markdown",
   "metadata": {},
   "source": [
    "# How Spark can run SQL code ?\n",
    "An SQL query declares our intentions, but it does not tell the exact logic flow to run. We need to convert the SQL in a query plan, which is a set of steps of executions. <br>\n",
    "This process was not invented by Spark, it happens in all SQL servers.\n",
    "\n",
    "<img src='https://github.com/tlapusan/itdays-2019/blob/master/bigdata/resources/images/sql_catalyst.png?raw=true'/>\n",
    "\n"
   ]
  },
  {
   "cell_type": "markdown",
   "metadata": {},
   "source": [
    "<b>Parsed logical</b> plan checks code validity. <br>\n",
    "<b>Analyzed logical plan</b> checks for tables, columns validity. <br>\n",
    "<b>Optimized logical plan</b> tries to apply optimisations on the logical plan, like pushing down predicates or column selections. <br>\n",
    "<b>Physical plan</b> specifies exactly how the plan will be executed on the cluster.\n",
    "\n",
    "<img src='https://github.com/tlapusan/itdays-2019/blob/master/bigdata/resources/images/query_plan_states.png?raw=true'/>"
   ]
  },
  {
   "cell_type": "markdown",
   "metadata": {},
   "source": [
    "## Dataframe API"
   ]
  },
  {
   "cell_type": "code",
   "execution_count": 37,
   "metadata": {},
   "outputs": [
    {
     "name": "stdout",
     "output_type": "stream",
     "text": [
      "== Parsed Logical Plan ==\n",
      "'Filter ('job = management)\n",
      "+- Filter (age#11 > 30)\n",
      "   +- Project [age#11, job#12, marital#13, education#14, duration#42]\n",
      "      +- Project [id#10, age#11, job#12, marital#13, education#14, default#15, housing#16, loan#17, subscribed#18, subscribed_int#235, contact#39, month#40, day_of_week#41, duration#42, campaign#43]\n",
      "         +- Join Inner, (id#10 = id#38)\n",
      "            :- Project [id#10, age#11, job#12, marital#13, education#14, default#15, housing#16, loan#17, subscribed#18, CASE WHEN (subscribed#18 = yes) THEN 1 ELSE 0 END AS subscribed_int#235]\n",
      "            :  +- Relation[id#10,age#11,job#12,marital#13,education#14,default#15,housing#16,loan#17,subscribed#18] csv\n",
      "            +- Relation[id#38,contact#39,month#40,day_of_week#41,duration#42,campaign#43] csv\n",
      "\n",
      "== Analyzed Logical Plan ==\n",
      "age: int, job: string, marital: string, education: string, duration: int\n",
      "Filter (job#12 = management)\n",
      "+- Filter (age#11 > 30)\n",
      "   +- Project [age#11, job#12, marital#13, education#14, duration#42]\n",
      "      +- Project [id#10, age#11, job#12, marital#13, education#14, default#15, housing#16, loan#17, subscribed#18, subscribed_int#235, contact#39, month#40, day_of_week#41, duration#42, campaign#43]\n",
      "         +- Join Inner, (id#10 = id#38)\n",
      "            :- Project [id#10, age#11, job#12, marital#13, education#14, default#15, housing#16, loan#17, subscribed#18, CASE WHEN (subscribed#18 = yes) THEN 1 ELSE 0 END AS subscribed_int#235]\n",
      "            :  +- Relation[id#10,age#11,job#12,marital#13,education#14,default#15,housing#16,loan#17,subscribed#18] csv\n",
      "            +- Relation[id#38,contact#39,month#40,day_of_week#41,duration#42,campaign#43] csv\n",
      "\n",
      "== Optimized Logical Plan ==\n",
      "Project [age#11, job#12, marital#13, education#14, duration#42]\n",
      "+- Join Inner, (id#10 = id#38)\n",
      "   :- Project [id#10, age#11, job#12, marital#13, education#14]\n",
      "   :  +- Filter ((((isnotnull(age#11) && isnotnull(job#12)) && (age#11 > 30)) && (job#12 = management)) && isnotnull(id#10))\n",
      "   :     +- Relation[id#10,age#11,job#12,marital#13,education#14,default#15,housing#16,loan#17,subscribed#18] csv\n",
      "   +- Project [id#38, duration#42]\n",
      "      +- Filter isnotnull(id#38)\n",
      "         +- Relation[id#38,contact#39,month#40,day_of_week#41,duration#42,campaign#43] csv\n",
      "\n",
      "== Physical Plan ==\n",
      "*(2) Project [age#11, job#12, marital#13, education#14, duration#42]\n",
      "+- *(2) BroadcastHashJoin [id#10], [id#38], Inner, BuildRight\n",
      "   :- *(2) Project [id#10, age#11, job#12, marital#13, education#14]\n",
      "   :  +- *(2) Filter ((((isnotnull(age#11) && isnotnull(job#12)) && (age#11 > 30)) && (job#12 = management)) && isnotnull(id#10))\n",
      "   :     +- *(2) FileScan csv [id#10,age#11,job#12,marital#13,education#14] Batched: false, Format: CSV, Location: InMemoryFileIndex[file:/Users/tudorlapusan/Documents/workspaces/workshops/itdays-2019/bigdata/res..., PartitionFilters: [], PushedFilters: [IsNotNull(age), IsNotNull(job), GreaterThan(age,30), EqualTo(job,management), IsNotNull(id)], ReadSchema: struct<id:int,age:int,job:string,marital:string,education:string>\n",
      "   +- BroadcastExchange HashedRelationBroadcastMode(List(cast(input[0, int, true] as bigint)))\n",
      "      +- *(1) Project [id#38, duration#42]\n",
      "         +- *(1) Filter isnotnull(id#38)\n",
      "            +- *(1) FileScan csv [id#38,duration#42] Batched: false, Format: CSV, Location: InMemoryFileIndex[file:/Users/tudorlapusan/Documents/workspaces/workshops/itdays-2019/bigdata/res..., PartitionFilters: [], PushedFilters: [IsNotNull(id)], ReadSchema: struct<id:int,duration:int>\n"
     ]
    }
   ],
   "source": [
    "full_dataset.select([\"age\",\"job\",\"marital\",\"education\", \"duration\"]).\\\n",
    "    where(F.col(\"age\") > 30).\\\n",
    "    where(F.col(\"job\") == \"management\").explain(extended=True)"
   ]
  },
  {
   "cell_type": "markdown",
   "metadata": {},
   "source": [
    "## SQL"
   ]
  },
  {
   "cell_type": "code",
   "execution_count": 38,
   "metadata": {},
   "outputs": [
    {
     "name": "stdout",
     "output_type": "stream",
     "text": [
      "== Parsed Logical Plan ==\n",
      "'Project ['age, 'job, 'marital, 'education, 'duration]\n",
      "+- 'Filter (('age > 30) && ('job = management))\n",
      "   +- 'UnresolvedRelation `full_dataset`\n",
      "\n",
      "== Analyzed Logical Plan ==\n",
      "age: int, job: string, marital: string, education: string, duration: int\n",
      "Project [age#11, job#12, marital#13, education#14, duration#42]\n",
      "+- Filter ((age#11 > 30) && (job#12 = management))\n",
      "   +- SubqueryAlias `full_dataset`\n",
      "      +- Project [id#10, age#11, job#12, marital#13, education#14, default#15, housing#16, loan#17, subscribed#18, subscribed_int#235, contact#39, month#40, day_of_week#41, duration#42, campaign#43]\n",
      "         +- Join Inner, (id#10 = id#38)\n",
      "            :- Project [id#10, age#11, job#12, marital#13, education#14, default#15, housing#16, loan#17, subscribed#18, CASE WHEN (subscribed#18 = yes) THEN 1 ELSE 0 END AS subscribed_int#235]\n",
      "            :  +- Relation[id#10,age#11,job#12,marital#13,education#14,default#15,housing#16,loan#17,subscribed#18] csv\n",
      "            +- Relation[id#38,contact#39,month#40,day_of_week#41,duration#42,campaign#43] csv\n",
      "\n",
      "== Optimized Logical Plan ==\n",
      "Project [age#11, job#12, marital#13, education#14, duration#42]\n",
      "+- Join Inner, (id#10 = id#38)\n",
      "   :- Project [id#10, age#11, job#12, marital#13, education#14]\n",
      "   :  +- Filter ((((isnotnull(age#11) && isnotnull(job#12)) && (age#11 > 30)) && (job#12 = management)) && isnotnull(id#10))\n",
      "   :     +- Relation[id#10,age#11,job#12,marital#13,education#14,default#15,housing#16,loan#17,subscribed#18] csv\n",
      "   +- Project [id#38, duration#42]\n",
      "      +- Filter isnotnull(id#38)\n",
      "         +- Relation[id#38,contact#39,month#40,day_of_week#41,duration#42,campaign#43] csv\n",
      "\n",
      "== Physical Plan ==\n",
      "*(2) Project [age#11, job#12, marital#13, education#14, duration#42]\n",
      "+- *(2) BroadcastHashJoin [id#10], [id#38], Inner, BuildRight\n",
      "   :- *(2) Project [id#10, age#11, job#12, marital#13, education#14]\n",
      "   :  +- *(2) Filter ((((isnotnull(age#11) && isnotnull(job#12)) && (age#11 > 30)) && (job#12 = management)) && isnotnull(id#10))\n",
      "   :     +- *(2) FileScan csv [id#10,age#11,job#12,marital#13,education#14] Batched: false, Format: CSV, Location: InMemoryFileIndex[file:/Users/tudorlapusan/Documents/workspaces/workshops/itdays-2019/bigdata/res..., PartitionFilters: [], PushedFilters: [IsNotNull(age), IsNotNull(job), GreaterThan(age,30), EqualTo(job,management), IsNotNull(id)], ReadSchema: struct<id:int,age:int,job:string,marital:string,education:string>\n",
      "   +- BroadcastExchange HashedRelationBroadcastMode(List(cast(input[0, int, true] as bigint)))\n",
      "      +- *(1) Project [id#38, duration#42]\n",
      "         +- *(1) Filter isnotnull(id#38)\n",
      "            +- *(1) FileScan csv [id#38,duration#42] Batched: false, Format: CSV, Location: InMemoryFileIndex[file:/Users/tudorlapusan/Documents/workspaces/workshops/itdays-2019/bigdata/res..., PartitionFilters: [], PushedFilters: [IsNotNull(id)], ReadSchema: struct<id:int,duration:int>\n"
     ]
    }
   ],
   "source": [
    "spark.sql(\"\"\"\n",
    "        SELECT age, job, marital, education, duration \n",
    "        FROM full_dataset\n",
    "        WHERE age > 30 AND job =='management'\"\"\").explain(extended=True)"
   ]
  },
  {
   "cell_type": "markdown",
   "metadata": {},
   "source": [
    "# Spark operations\n",
    "In Spark we have two types of operations : transformations and actions. <br>\n",
    "Transformations are those operations used to express the business logic of a spark application. <br>\n",
    "Actions are those operations used to trigger a pipeline of transformations.\n",
    "\n",
    "Lazy evaluation : spark will compute all the transformations, only in the last minute, when you actually call an action on them. In this way, Spark can look at the whole set of transformation and will try to apply optimisations on it.\n",
    "\n",
    "\n"
   ]
  },
  {
   "cell_type": "code",
   "execution_count": 39,
   "metadata": {},
   "outputs": [
    {
     "name": "stdout",
     "output_type": "stream",
     "text": [
      "DataFrame[id: int, age: int, job: string, marital: string, education: string, default: string, housing: string, loan: string, subscribed: string, subscribed_int: int]\n",
      "52.8 ms ± 0 ns per loop (mean ± std. dev. of 1 run, 1 loop each)\n"
     ]
    }
   ],
   "source": [
    "# tranformation\n",
    "%timeit -r1 -n1 print(client_bank.\\\n",
    "                            where(F.col(\"age\")==24)) "
   ]
  },
  {
   "cell_type": "code",
   "execution_count": 40,
   "metadata": {},
   "outputs": [
    {
     "name": "stdout",
     "output_type": "stream",
     "text": [
      "463\n",
      "142 ms ± 0 ns per loop (mean ± std. dev. of 1 run, 1 loop each)\n"
     ]
    }
   ],
   "source": [
    "# action\n",
    "%timeit -r1 -n1 print(client_bank.\\\n",
    "                            where(F.col(\"age\")==24).\\\n",
    "                            count())"
   ]
  },
  {
   "cell_type": "markdown",
   "metadata": {},
   "source": [
    "# Spark SQL functions\n",
    "https://spark.apache.org/docs/latest/api/python/pyspark.sql.html"
   ]
  },
  {
   "cell_type": "markdown",
   "metadata": {},
   "source": [
    "# Spark SQL resources\n",
    "Book - https://www.amazon.com/Spark-Definitive-Guide-Processing-Simple/dp/1491912219 <br>\n",
    "Videos :\n",
    "- https://databricks.com/sparkaisummit/north-america/sessions\n",
    "- https://databricks.com/session/from-basic-to-advanced-aggregate-operators-in-apache-spark-sql-2-2-by-examples-and-their-catalyst-optimizations-continues\n"
   ]
  },
  {
   "cell_type": "markdown",
   "metadata": {},
   "source": [
    "project push down, filter push down, and partition pruning : https://drill.apache.org/docs/parquet-filter-pushdown/"
   ]
  },
  {
   "cell_type": "code",
   "execution_count": null,
   "metadata": {},
   "outputs": [],
   "source": []
  },
  {
   "cell_type": "code",
   "execution_count": null,
   "metadata": {},
   "outputs": [],
   "source": []
  },
  {
   "cell_type": "code",
   "execution_count": null,
   "metadata": {},
   "outputs": [],
   "source": []
  }
 ],
 "metadata": {
  "kernelspec": {
   "display_name": "Python 3",
   "language": "python",
   "name": "python3"
  },
  "language_info": {
   "codemirror_mode": {
    "name": "ipython",
    "version": 3
   },
   "file_extension": ".py",
   "mimetype": "text/x-python",
   "name": "python",
   "nbconvert_exporter": "python",
   "pygments_lexer": "ipython3",
   "version": "3.7.4"
  },
  "toc": {
   "base_numbering": 1,
   "nav_menu": {},
   "number_sections": true,
   "sideBar": true,
   "skip_h1_title": false,
   "title_cell": "Table of Contents",
   "title_sidebar": "Contents",
   "toc_cell": false,
   "toc_position": {
    "height": "calc(100% - 180px)",
    "left": "10px",
    "top": "150px",
    "width": "272.76px"
   },
   "toc_section_display": true,
   "toc_window_display": true
  }
 },
 "nbformat": 4,
 "nbformat_minor": 2
}
